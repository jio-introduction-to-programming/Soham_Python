{
 "cells": [
  {
   "cell_type": "markdown",
   "metadata": {},
   "source": [
    "1) Write a function which takes a list as input and return its sum\n"
   ]
  },
  {
   "cell_type": "code",
   "execution_count": 1,
   "metadata": {},
   "outputs": [
    {
     "name": "stdout",
     "output_type": "stream",
     "text": [
      "6\n"
     ]
    }
   ],
   "source": [
    "def sum_list(lst):\n",
    "    total=sum(lst)\n",
    "    return total\n",
    "\n",
    "numbers=[]\n",
    "length_of_list=int(input())\n",
    "for i in range(length_of_list):\n",
    "    x=int(input())\n",
    "    numbers.append(x)\n",
    "\n",
    "print(sum_list(numbers))"
   ]
  },
  {
   "cell_type": "markdown",
   "metadata": {},
   "source": [
    "2. Write a function which takes a list as an input and return the max\n",
    "element in the list"
   ]
  },
  {
   "cell_type": "code",
   "execution_count": 3,
   "metadata": {},
   "outputs": [
    {
     "name": "stdout",
     "output_type": "stream",
     "text": [
      "[99, 103, 21, 8, 11]\n",
      "103\n"
     ]
    }
   ],
   "source": [
    "def maximum_number(lst):\n",
    "    lst.sort()\n",
    "    return lst[-1]\n",
    "\n",
    "\n",
    "numbers=[]\n",
    "length_of_list=int(input())\n",
    "for i in range(length_of_list):\n",
    "    x=int(input())\n",
    "    numbers.append(x)\n",
    "\n",
    "print(numbers)\n",
    "\n",
    "print(maximum_number(numbers))"
   ]
  },
  {
   "cell_type": "markdown",
   "metadata": {},
   "source": [
    "3. Write a function which takes a list as\n",
    "input and returns the reverse of the\n",
    "list in the output"
   ]
  },
  {
   "cell_type": "code",
   "execution_count": 1,
   "metadata": {},
   "outputs": [
    {
     "name": "stdout",
     "output_type": "stream",
     "text": [
      "[5, 4, 3, 2, 1]\n"
     ]
    }
   ],
   "source": [
    "def reverse_list(lst):\n",
    "    lst.reverse()\n",
    "    return lst\n",
    "\n",
    "print(reverse_list([1,2,3,4,5]))\n"
   ]
  },
  {
   "cell_type": "markdown",
   "metadata": {},
   "source": [
    "4. Write a function which takes a list as\n",
    "input and returns the list in sorted\n",
    "format. ( Note: You're not allowed to\n",
    "use in-built functions )\n"
   ]
  },
  {
   "cell_type": "code",
   "execution_count": 3,
   "metadata": {},
   "outputs": [
    {
     "name": "stdout",
     "output_type": "stream",
     "text": [
      "[78, 12, 99, 31, 34]\n",
      "[12, 31, 34, 78, 99]\n"
     ]
    }
   ],
   "source": [
    "def sort_list(lst):\n",
    "    \n",
    "\n",
    "    if(length_of_list<=1):\n",
    "        return lst\n",
    "    \n",
    "    else:\n",
    "        for j in range(length_of_list):\n",
    "            swap=False\n",
    "            for k in range(len(lst)-j-1):\n",
    "                if lst[k]>lst[k+1]:\n",
    "                    lst[k],lst[k+1] = lst[k+1],lst[k]\n",
    "                    swapped=True\n",
    "            if swapped== False:\n",
    "                break\n",
    "        \n",
    "        print(numbers)\n",
    "\n",
    "numbers=[]\n",
    "length_of_list=int(input())\n",
    "for i in range(length_of_list):\n",
    "    x=int(input())\n",
    "    numbers.append(x)\n",
    "\n",
    "print(numbers)\n",
    "sort_list(numbers)\n",
    "\n",
    "\n"
   ]
  },
  {
   "cell_type": "markdown",
   "metadata": {},
   "source": [
    "5. Write a function which takes a list as\n",
    "an input and returns the following\n",
    "statistics:\n",
    "\n",
    "1)Mean / Average\n",
    "\n",
    "2)Mode"
   ]
  },
  {
   "cell_type": "code",
   "execution_count": 2,
   "metadata": {},
   "outputs": [
    {
     "name": "stdout",
     "output_type": "stream",
     "text": [
      "[1, 5, 5, 9, 3]\n"
     ]
    },
    {
     "data": {
      "text/plain": [
       "'mean is 4.6, \\nmode is :[5]'"
      ]
     },
     "execution_count": 2,
     "metadata": {},
     "output_type": "execute_result"
    }
   ],
   "source": [
    "def stats(lst):\n",
    "    n=len(lst)\n",
    "    sum=0\n",
    "    for i in lst:\n",
    "        sum+=i\n",
    "    \n",
    "    mean =sum/n\n",
    "    counter=0\n",
    "    dict={}\n",
    "    \n",
    "    for x in lst:\n",
    "        if x in dict:\n",
    "            dict[x] +=1\n",
    "        else:\n",
    "            dict[x] =1\n",
    "    \n",
    "    mode_count= max(dict.values())\n",
    "    mode = [key for key in dict.keys() if dict[key]==mode_count]\n",
    "\n",
    "    return f'mean is {mean}, \\nmode is :{mode}'    \n",
    "\n",
    "\n",
    "\n",
    "numbers=[]\n",
    "length_of_list=int(input())\n",
    "for i in range(length_of_list):\n",
    "    x=int(input())\n",
    "    numbers.append(x)\n",
    "\n",
    "print(numbers)\n",
    "stats(numbers)\n",
    "\n",
    "\n"
   ]
  },
  {
   "cell_type": "markdown",
   "metadata": {},
   "source": [
    "6.\n",
    "Step-1 Read a sequence of numbers\n",
    "as an input from user.\n",
    "\n",
    "Step-2 Read another integer k from\n",
    "the user\n",
    "\n",
    "Step-3 Ask user to input two number\n",
    "start and end, k times\n",
    "\n",
    "Step-4 Return the sum of the array\n",
    "from start -> end as a result in the ksized\n",
    "list"
   ]
  },
  {
   "cell_type": "code",
   "execution_count": 3,
   "metadata": {},
   "outputs": [
    {
     "name": "stdout",
     "output_type": "stream",
     "text": [
      "[9, 5]\n"
     ]
    }
   ],
   "source": [
    "numbers= list(map(int,input(\"enter the numbers:\").split()))\n",
    "k= int(input(\"enter the numbr of times you want to sum:\"))\n",
    "\n",
    "lst=[]\n",
    "for i in range(k):\n",
    "    start_index= int(input(\"enter the starting index:\"))\n",
    "    end_index = int(input(\"enter the ending index:\"))\n",
    "\n",
    "    sum_of_start_to_end = sum(numbers[start_index:end_index+1])\n",
    "\n",
    "    lst.append(sum_of_start_to_end)\n",
    "\n",
    "print(lst)\n"
   ]
  },
  {
   "cell_type": "code",
   "execution_count": null,
   "metadata": {},
   "outputs": [],
   "source": []
  }
 ],
 "metadata": {
  "kernelspec": {
   "display_name": ".venv",
   "language": "python",
   "name": "python3"
  },
  "language_info": {
   "codemirror_mode": {
    "name": "ipython",
    "version": 3
   },
   "file_extension": ".py",
   "mimetype": "text/x-python",
   "name": "python",
   "nbconvert_exporter": "python",
   "pygments_lexer": "ipython3",
   "version": "3.11.4"
  },
  "orig_nbformat": 4
 },
 "nbformat": 4,
 "nbformat_minor": 2
}
