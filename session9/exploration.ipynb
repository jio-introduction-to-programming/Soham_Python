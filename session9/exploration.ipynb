{
 "cells": [
  {
   "cell_type": "markdown",
   "metadata": {},
   "source": [
    "# PyTorch Library\n",
    "\n",
    "pytorch is a deep learning framework which provides plethora of functions for developing different machine learning and deep learning frameworks. This is created by Facebook(Meta) and it is known for its pythonic approach and lucid way of developing the any deep learning model Apart from some standard deep learning functions, it also provides other extended libraries like torchvision, torchaudio etc. For example torchvision has so many functionalities that can be used in the computer vision pipeline. For example image preprocessing functions like augmentations are provided in the torchvision library.\n",
    "\n",
    "Apart from computer vision torch also has functionality for NLP(Natural Language Processing). It has all the predefined functions for transformer, LSTM, RNN, GRU which are heavily used in NLP applications"
   ]
  },
  {
   "cell_type": "markdown",
   "metadata": {},
   "source": [
    "For Example\n"
   ]
  },
  {
   "cell_type": "code",
   "execution_count": null,
   "metadata": {},
   "outputs": [],
   "source": [
    "import torch\n",
    "from torch.nn import Module, Sequential, Linear\n",
    "import torch.nn as nn\n",
    "\n",
    "# Pytroch simple model (Neural Network)\n",
    "class Simple_Model(Module):\n",
    "    def __init__(self, in_features, out_features):\n",
    "        super(Simple_Module, self).__init__()\n",
    "\n",
    "        self.model = Sequential(nn.Linear(in_features, 128),nn.ReLU(),\n",
    "                    nn.Linear(128, 256), nn.ReLU(), nn.Linear(256,out_features))\n",
    "\n",
    "    def forward(self,x):\n",
    "        return self.model(x)\n"
   ]
  }
 ],
 "metadata": {
  "kernelspec": {
   "display_name": ".venv",
   "language": "python",
   "name": "python3"
  },
  "language_info": {
   "codemirror_mode": {
    "name": "ipython",
    "version": 3
   },
   "file_extension": ".py",
   "mimetype": "text/x-python",
   "name": "python",
   "nbconvert_exporter": "python",
   "pygments_lexer": "ipython3",
   "version": "3.11.4"
  },
  "orig_nbformat": 4
 },
 "nbformat": 4,
 "nbformat_minor": 2
}
